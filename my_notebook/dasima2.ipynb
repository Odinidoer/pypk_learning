{
 "cells": [
  {
   "cell_type": "code",
   "execution_count": 1,
   "metadata": {
    "collapsed": true
   },
   "outputs": [],
   "source": [
    "# 引入Tensorflow包\n",
    "import tensorflow as tf"
   ]
  },
  {
   "cell_type": "code",
   "execution_count": 7,
   "metadata": {},
   "outputs": [
    {
     "name": "stdout",
     "output_type": "stream",
     "text": [
      "0\n",
      "10\n",
      "20\n",
      "30\n",
      "40\n",
      "50\n"
     ]
    }
   ],
   "source": [
    "#创建一个变量num\n",
    "num = tf.Variable(0, name='count')\n",
    "#创建一个加法操作把当前数字+10\n",
    "new_value = tf.add(num, 10)\n",
    "#创建一个赋值操作，把new_values赋值给num\n",
    "op = tf.assign(num, new_value)\n",
    "\n",
    "with tf.Session() as sess:\n",
    "    \n",
    "    #初始化变量（是不是只有有变量这里才需要初始化，第一个例子里面有常量没有初始化）\n",
    "    sess.run(tf.global_variables_initializer())\n",
    "    print(sess.run(num))\n",
    "    #创建一个for循环，每次给num+10，并打印出来\n",
    "    for _ in range(5):\n",
    "        sess.run(op)\n",
    "        print(sess.run(num))"
   ]
  },
  {
   "cell_type": "code",
   "execution_count": 11,
   "metadata": {},
   "outputs": [
    {
     "name": "stdout",
     "output_type": "stream",
     "text": [
      "253.0\n"
     ]
    }
   ],
   "source": [
    "#创建占位符\n",
    "input1 = tf.placeholder(tf.float32)\n",
    "input2 = tf.placeholder(tf.float32)\n",
    "\n",
    "#创建加法操作，把input1和input2相乘\n",
    "new_value = tf.multiply(input1, input2)\n",
    "\n",
    "with tf.Session() as sess:\n",
    "    print(sess.run(new_value, feed_dict={input1:23.0, input2:11.0}))"
   ]
  },
  {
   "cell_type": "code",
   "execution_count": null,
   "metadata": {
    "collapsed": true
   },
   "outputs": [],
   "source": []
  }
 ],
 "metadata": {
  "kernelspec": {
   "display_name": "Python 3",
   "language": "python",
   "name": "python3"
  },
  "language_info": {
   "codemirror_mode": {
    "name": "ipython",
    "version": 3
   },
   "file_extension": ".py",
   "mimetype": "text/x-python",
   "name": "python",
   "nbconvert_exporter": "python",
   "pygments_lexer": "ipython3",
   "version": "3.6.3"
  }
 },
 "nbformat": 4,
 "nbformat_minor": 2
}
